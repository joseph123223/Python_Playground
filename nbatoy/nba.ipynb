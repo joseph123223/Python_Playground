{
 "cells": [
  {
   "cell_type": "code",
   "execution_count": 3,
   "id": "27c9e524-0a42-4b57-8625-6a79c09b856b",
   "metadata": {},
   "outputs": [
    {
     "ename": "ModuleNotFoundError",
     "evalue": "No module named 'ace_tools'",
     "output_type": "error",
     "traceback": [
      "\u001b[0;31m---------------------------------------------------------------------------\u001b[0m",
      "\u001b[0;31mModuleNotFoundError\u001b[0m                       Traceback (most recent call last)",
      "Cell \u001b[0;32mIn[3], line 4\u001b[0m\n\u001b[1;32m      2\u001b[0m \u001b[38;5;28;01mimport\u001b[39;00m \u001b[38;5;21;01mpandas\u001b[39;00m \u001b[38;5;28;01mas\u001b[39;00m \u001b[38;5;21;01mpd\u001b[39;00m\n\u001b[1;32m      3\u001b[0m \u001b[38;5;28;01mfrom\u001b[39;00m \u001b[38;5;21;01mdatetime\u001b[39;00m \u001b[38;5;28;01mimport\u001b[39;00m datetime\n\u001b[0;32m----> 4\u001b[0m \u001b[38;5;28;01mimport\u001b[39;00m \u001b[38;5;21;01mace_tools\u001b[39;00m \u001b[38;5;28;01mas\u001b[39;00m \u001b[38;5;21;01mtools\u001b[39;00m\n\u001b[1;32m      6\u001b[0m \u001b[38;5;66;03m# Get today's date in the required format (YYYYMMDD)\u001b[39;00m\n\u001b[1;32m      7\u001b[0m today \u001b[38;5;241m=\u001b[39m datetime\u001b[38;5;241m.\u001b[39mtoday()\u001b[38;5;241m.\u001b[39mstrftime(\u001b[38;5;124m'\u001b[39m\u001b[38;5;124m%\u001b[39m\u001b[38;5;124mY-\u001b[39m\u001b[38;5;124m%\u001b[39m\u001b[38;5;124mm-\u001b[39m\u001b[38;5;132;01m%d\u001b[39;00m\u001b[38;5;124m'\u001b[39m)\n",
      "\u001b[0;31mModuleNotFoundError\u001b[0m: No module named 'ace_tools'"
     ]
    }
   ],
   "source": [
    "from nba_api.stats.endpoints import scoreboardv2\n",
    "import pandas as pd\n",
    "from datetime import datetime\n",
    "from IPython.display import display\n",
    "\n",
    "# Get today's date in the required format (YYYYMMDD)\n",
    "today = datetime.today().strftime('%Y-%m-%d')\n",
    "\n",
    "# Fetch NBA games' scoreboard\n",
    "games = scoreboard.Scoreboard(game_date=today)\n",
    "\n",
    "# Get game headers (contains game scores)\n",
    "games_data = games.get_data_frames()[0]\n",
    "\n",
    "# Select relevant columns\n",
    "games_results = games_data[['GAME_DATE_EST', 'HOME_TEAM_NAME', 'HOME_TEAM_ABBREVIATION', \n",
    "                            'VISITOR_TEAM_NAME', 'VISITOR_TEAM_ABBREVIATION', \n",
    "                            'HOME_TEAM_WINS']]\n",
    "\n",
    "# Convert result to a more readable format\n",
    "games_results['RESULT'] = games_results.apply(\n",
    "    lambda row: f\"{row['HOME_TEAM_NAME']} ({row['HOME_TEAM_ABBREVIATION']}) {'W' if row['HOME_TEAM_WINS'] else 'L'} - \"\n",
    "                f\"{row['VISITOR_TEAM_NAME']} ({row['VISITOR_TEAM_ABBREVIATION']}) {'L' if row['HOME_TEAM_WINS'] else 'W'}\",\n",
    "    axis=1\n",
    ")\n",
    "\n",
    "# Display the results\n",
    "display(games_results[['GAME_DATE_EST', 'RESULT']])\n"
   ]
  },
  {
   "cell_type": "code",
   "execution_count": null,
   "id": "f23733c0-566f-486d-a7fc-7ee09afd2a9e",
   "metadata": {},
   "outputs": [],
   "source": []
  }
 ],
 "metadata": {
  "kernelspec": {
   "display_name": "Python 3 (ipykernel)",
   "language": "python",
   "name": "python3"
  },
  "language_info": {
   "codemirror_mode": {
    "name": "ipython",
    "version": 3
   },
   "file_extension": ".py",
   "mimetype": "text/x-python",
   "name": "python",
   "nbconvert_exporter": "python",
   "pygments_lexer": "ipython3",
   "version": "3.12.3"
  }
 },
 "nbformat": 4,
 "nbformat_minor": 5
}
