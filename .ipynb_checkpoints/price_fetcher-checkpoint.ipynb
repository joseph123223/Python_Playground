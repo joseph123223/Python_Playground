{
 "cells": [
  {
   "cell_type": "code",
   "execution_count": 1,
   "id": "d60108d7-3980-4132-ae41-76e2c8cf755d",
   "metadata": {},
   "outputs": [],
   "source": [
    "import time\n",
    "import datetime\n",
    "import requests\n",
    "from IPython.display import clear_output"
   ]
  },
  {
   "cell_type": "markdown",
   "id": "b14cbae0-e0cd-4497-a708-1a5d8a23c637",
   "metadata": {},
   "source": [
    "## [START HERE] Enter your input here "
   ]
  },
  {
   "cell_type": "code",
   "execution_count": 2,
   "id": "efbc9b3f-54d4-4778-bf51-67b8fd9746f0",
   "metadata": {},
   "outputs": [],
   "source": [
    "binance = {\n",
    "    'BTCUSDT': 0.011741,\n",
    "    'ETHUSDT': 0.62697,\n",
    "    'ADAUSDT': 0.0,\n",
    "    'USDT': 0.0\n",
    "}\n",
    "\n",
    "#Optional\n",
    "cold_wallet = {\n",
    "    'BTCUSDT': 0.02777,\n",
    "    'ETHUSDT': 2.38499,\n",
    "    'ADAUSDT': 6468.76\n",
    "}\n",
    "\n",
    "avg_cost = {\n",
    "    'BTCUSDT': 97406.98,\n",
    "    'ETHUSDT': 3335.67,\n",
    "    'ADAUSDT': 0.85\n",
    "}"
   ]
  },
  {
   "cell_type": "markdown",
   "id": "0b78bb03-6793-4e32-91be-72df7ddec5c3",
   "metadata": {},
   "source": [
    "## Distribution Calculation"
   ]
  },
  {
   "cell_type": "code",
   "execution_count": 3,
   "id": "4891ab45-54ed-4a5b-8d87-f4e5482b5dc0",
   "metadata": {},
   "outputs": [
    {
     "name": "stdout",
     "output_type": "stream",
     "text": [
      "Your current owned assets:\n",
      "BTC: 0.03951 - with avg cost [97406.98]\n",
      "ETH: 3.01196 - with avg cost [3335.67]\n",
      "ADA: 6468.76 - with avg cost [0.85]\n",
      "USDT: 0.0 - with avg cost [Not Avaliable]\n",
      "\n",
      "Your current asset's distribution is:\n",
      "BTC: 19.84%\n",
      "ETH: 51.8%\n",
      "ADA: 28.35%\n",
      "USDT: 0.0%\n",
      "Total cost so far: 19393.90039\n"
     ]
    }
   ],
   "source": [
    "total_owned = {}\n",
    "for key, value in binance.items():\n",
    "    total_owned[key] = value if key not in cold_wallet.keys() else round(value + cold_wallet[key], 5)\n",
    "#print(total_owned)\n",
    "portion = { key: round((total_owned[key] * avg_cost[key]), 5) if key in avg_cost else total_owned[key] for key in total_owned.keys() }\n",
    "total_cost = sum(portion.values())\n",
    "percentage = { key: round((value / total_cost * 100), 2) for key, value in portion.items() }\n",
    "print(\"Your current owned assets:\")\n",
    "for key, value in total_owned.items():\n",
    "    print(f'{key if key == 'USDT' else key[:-4]}: {value} - with avg cost {[avg_cost[key]] if key in avg_cost.keys() else '[Not Avaliable]'}')\n",
    "print(\"\\nYour current asset's distribution is:\")\n",
    "for key, value in percentage.items():\n",
    "    if key != 'USDT' and key != 'USDC':\n",
    "        print(f\"{key[:-4]}: {value}%\")\n",
    "    else:\n",
    "        print(f\"{key}: {value}%\")\n",
    "print(f\"Total cost so far: {total_cost}\")"
   ]
  },
  {
   "cell_type": "markdown",
   "id": "79c5a5dc-8f14-4c2d-a333-455a1dc86475",
   "metadata": {},
   "source": [
    "### Specific Search"
   ]
  },
  {
   "cell_type": "code",
   "execution_count": 4,
   "id": "7575c3e2-9e00-482d-8dc2-85b957cfd870",
   "metadata": {},
   "outputs": [
    {
     "name": "stdout",
     "output_type": "stream",
     "text": [
      "The current price of ETHBTC is: 0.02719000\n"
     ]
    }
   ],
   "source": [
    "item_to_search = 'ETHBTC'\n",
    "url_root = \"https://api.binance.com/api/v3/ticker/price?symbol=\"\n",
    "\n",
    "response = requests.get(url_root+item_to_search)\n",
    "if response.status_code == 200:\n",
    "    price = response.json()\n",
    "    print(f\"The current price of {price['symbol']} is: {price['price']}\")\n",
    "else:\n",
    "    print(f\"Error：{response.status_code} - {response.text}\")"
   ]
  },
  {
   "cell_type": "markdown",
   "id": "add31e15-d0cb-4960-a6f4-f092a600b644",
   "metadata": {},
   "source": [
    "### Real-time Unrealized Profits [START HERE]"
   ]
  },
  {
   "cell_type": "code",
   "execution_count": 5,
   "id": "438647c0-6d35-4a10-b2ef-661ec5ce39c7",
   "metadata": {},
   "outputs": [
    {
     "data": {
      "text/plain": [
       "{'BTCUSDT': 96204.5, 'ETHUSDT': 2615.59, 'ADAUSDT': 0.6808}"
      ]
     },
     "execution_count": 5,
     "metadata": {},
     "output_type": "execute_result"
    }
   ],
   "source": [
    "filter_symbols = [key for key in avg_cost.keys()]\n",
    "url_custom = [ url_root + coin for coin in filter_symbols]\n",
    "start_prices = {}\n",
    "\n",
    "for url in url_custom:\n",
    "    response = requests.get(url)\n",
    "    if response.status_code == 200:\n",
    "        price = response.json()\n",
    "        start_prices[price['symbol']] = float(price['price']) \n",
    "    else:\n",
    "        print(f\"Error：{response.status_code} - {response.text}\")\n",
    "\n",
    "start_prices"
   ]
  },
  {
   "cell_type": "code",
   "execution_count": null,
   "id": "be50278e-1e7c-4bf6-85e3-e5561b11dc40",
   "metadata": {},
   "outputs": [
    {
     "name": "stdout",
     "output_type": "stream",
     "text": [
      "[2025/02/10 09:40:20]\n",
      "The current price of your owned coins are:\n",
      "\n",
      "  Type     Price      I/D       Per  \n",
      "BTCUSDT : 96150.0   \u001b[91m -54.5    \u001b[0m (\u001b[91m-0.0567 %\u001b[0m)\n",
      "ETHUSDT : 2608.81   \u001b[91m -6.78    \u001b[0m (\u001b[91m-0.2592 %\u001b[0m)\n",
      "ADAUSDT : 0.6784    \u001b[91m -0.0024  \u001b[0m (\u001b[91m-0.3525 %\u001b[0m)\n",
      "\n",
      "The unrealized profits of your owned coins are:\n",
      "BTCUSDT : -49.66328    \n",
      "ETHUSDT : -2189.27325  \n",
      "ADAUSDT : -1110.03922  \n",
      "The total unrealized profits is: -3348.97575\n"
     ]
    }
   ],
   "source": [
    "fetch_frequence = 10\n",
    "current_prices = {}\n",
    "default_color = '\\033[0m'\n",
    "\n",
    "while True:\n",
    "    clear_output(wait=True)\n",
    "    current_time = datetime.datetime.now()\n",
    "    for url in url_custom:\n",
    "        response = requests.get(url)\n",
    "        if response.status_code == 200:\n",
    "            price = response.json()\n",
    "            current_prices[price['symbol']] = float(price['price'])\n",
    "        else:\n",
    "            print(f\"Error：{response.status_code} - {response.text}\")\n",
    "            \n",
    "    print('[' + current_time.strftime('%Y/%m/%d %H:%M:%S')+ ']')\n",
    "    print(\"The current price of your owned coins are:\\n\")\n",
    "    print('{:^8}'.format('Type') + ' ' + '{:^10}'.format('Price') + ' ' + '{:^7}'.format('I/D') + '   ' + '{:^7}'.format('Per'))\n",
    "    for key, value in current_prices.items():\n",
    "        diff = round(value - start_prices[key], 4)\n",
    "        percentage = round(diff / start_prices[key] * 100, 4)\n",
    "        char = '+' if diff > 0 else '-'\n",
    "        color = '\\033[92m' if diff > 0 else '\\033[91m'\n",
    "        diff, percentage = abs(diff), abs(percentage)\n",
    "        print('%-8s' % key + ':', end = ' ')\n",
    "        print('%-10s' % round(value, 5), end='')\n",
    "        print(f\"{color} {char}\", end = '')\n",
    "        print('%-7s' % diff, end = ' ')\n",
    "        print(f\"{default_color} ({color}{char}\", end = '')\n",
    "        print('%-7s' % percentage + f'%{default_color})')\n",
    "    \n",
    "    unrealized_profit = { key: round((float(current_prices[key]) - avg_cost[key])* total_owned[key], 5) for key, value in avg_cost.items() }\n",
    "    print(\"\\nThe unrealized profits of your owned coins are:\")\n",
    "    total_unrealized_profit = 0\n",
    "    for key, value in unrealized_profit.items():\n",
    "        total_unrealized_profit += value\n",
    "        c = '+' if value > 0 else '-'\n",
    "        print('%-8s' % key + ': ' + c + '%-12s' % abs(round(value, 5)))\n",
    "\n",
    "    print(f\"The total unrealized profits is: {round(total_unrealized_profit, 5)}\")\n",
    "    update = False\n",
    "    time.sleep(fetch_frequence)"
   ]
  },
  {
   "cell_type": "code",
   "execution_count": null,
   "id": "a3b3b5f3-6e58-405c-a291-bc88bc00cab3",
   "metadata": {},
   "outputs": [],
   "source": []
  }
 ],
 "metadata": {
  "kernelspec": {
   "display_name": "Python 3 (ipykernel)",
   "language": "python",
   "name": "python3"
  },
  "language_info": {
   "codemirror_mode": {
    "name": "ipython",
    "version": 3
   },
   "file_extension": ".py",
   "mimetype": "text/x-python",
   "name": "python",
   "nbconvert_exporter": "python",
   "pygments_lexer": "ipython3",
   "version": "3.12.3"
  }
 },
 "nbformat": 4,
 "nbformat_minor": 5
}
