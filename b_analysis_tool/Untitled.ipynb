{
 "cells": [
  {
   "cell_type": "code",
   "execution_count": 12,
   "id": "4dbb42ba-d4e0-4b59-885d-81bf46bd4bad",
   "metadata": {},
   "outputs": [],
   "source": [
    "import ipywidgets as widgets\n",
    "from IPython.display import display\n",
    "from IPython.display import Image as IPyImage\n",
    "import os"
   ]
  },
  {
   "cell_type": "code",
   "execution_count": null,
   "id": "4d0f1c4a-ad99-45a4-8753-857d998821ac",
   "metadata": {},
   "outputs": [],
   "source": [
    "past_records = {\n",
    "        \n",
    "}"
   ]
  },
  {
   "cell_type": "code",
   "execution_count": 11,
   "id": "17ca7ea5-af26-46bc-8de6-6e7911f78f34",
   "metadata": {},
   "outputs": [
    {
     "name": "stdout",
     "output_type": "stream",
     "text": [
      "['Charlotte Hornets.png', 'Miami Heat.png', 'Utah Jazz.png', 'New Orleans Pelicans.png', 'Washington Wizards.png', 'Philadelphia 76ers.png', 'Phoenix Suns.png', 'Atlanta Hawks.png', 'Cleveland Cavaliers.png', 'New York Knicks.png', 'Houston Rockets.png', 'Minnesota Timberwolves.png', 'Boston Celtics.png', 'Los Angeles Clippers.png', 'Dallas Mavericks.png', 'Toronto Raptors.png', 'Brooklyn Nets.png', 'Portland Trail Blazers.png', 'Memphis Grizzlies.png', 'Chicago Bulls.png', 'Golden State Warriors.png', 'Sacramento Kings.png', 'San Antonio Spurs.png', 'Orlando Magic.png', 'Denver Nuggets.png', 'Los Angeles Lakers.png', 'Indiana Pacers.png', 'Milwaukee Bucks.png', 'Detroit Pistons.png', 'Oklahoma City Thunder.png']\n"
     ]
    }
   ],
   "source": [
    "directory_path = '/home/miu7898/coding/python/joseph/basketball_analysis_tool/logos'\n",
    "\n",
    "teams_png = [file for file in os.listdir(directory_path) if file.endswith('.png')]\n",
    "\n",
    "print(teams_png)"
   ]
  },
  {
   "cell_type": "code",
   "execution_count": 74,
   "id": "0ffa4227-e93d-40a1-a6b4-158b613464d5",
   "metadata": {},
   "outputs": [
    {
     "data": {
      "application/vnd.jupyter.widget-view+json": {
       "model_id": "34d07eb3649d48df9c668b103b66348b",
       "version_major": 2,
       "version_minor": 0
      },
      "text/plain": [
       "HBox(children=(HBox(children=(Label(value='Home:', layout=Layout(width='45px')), Dropdown(layout=Layout(width=…"
      ]
     },
     "metadata": {},
     "output_type": "display_data"
    }
   ],
   "source": [
    "teams = [ t.strip('.png') for t in teams_png ]\n",
    "\n",
    "home_dropdown = widgets.Dropdown(options=teams, layout=widgets.Layout(width='220px'))\n",
    "away_dropdown = widgets.Dropdown(options=teams, layout=widgets.Layout(width='220px'))\n",
    "\n",
    "home_img = widgets.Image(format='png', width=40, height=40, layout=widgets.Layout(margin='0 0 0 15px'))\n",
    "away_img = widgets.Image(format='png', width=40, height=40, layout=widgets.Layout(margin='0 0 0 15px'))\n",
    "\n",
    "\n",
    "def update_home_image(change):\n",
    "    path = os.path.join(directory_path, f\"{home_dropdown.value}.png\")\n",
    "    if os.path.exists(path):\n",
    "        with open(path, 'rb') as f:\n",
    "            home_img.value = f.read()\n",
    "    else:\n",
    "        home_img.value = b''\n",
    "\n",
    "def update_away_image(change):\n",
    "    path = os.path.join(directory_path, f\"{away_dropdown.value}.png\")\n",
    "    if os.path.exists(path):\n",
    "        with open(path, 'rb') as f:\n",
    "            away_img.value = f.read()\n",
    "    else:\n",
    "        away_img.value = b''\n",
    "\n",
    "def update_home_options(change=None):\n",
    "    selected_away = away_dropdown.value\n",
    "    current_home = home_dropdown.value\n",
    "\n",
    "    new_home_options = [t for t in teams if t != selected_away]\n",
    "    home_dropdown.options = new_home_options\n",
    "\n",
    "    if current_home in new_home_options:\n",
    "        home_dropdown.value = current_home\n",
    "    else:\n",
    "        home_dropdown.value = None\n",
    "\n",
    "def update_away_options(change=None):\n",
    "    selected_home = home_dropdown.value\n",
    "    current_away = away_dropdown.value\n",
    "\n",
    "    new_away_options = [t for t in teams if t != selected_home]\n",
    "    away_dropdown.options = new_away_options\n",
    "\n",
    "    if current_away in new_away_options:\n",
    "        away_dropdown.value = current_away\n",
    "    else:\n",
    "        away_dropdown.value = None\n",
    "\n",
    "def update_home(change):\n",
    "    update_home_image(change)\n",
    "    update_away_options(change)\n",
    "\n",
    "def update_away(change):\n",
    "    update_away_image(change)\n",
    "    update_home_options(change)\n",
    "\n",
    "home_dropdown.observe(update_home, names='value')\n",
    "away_dropdown.observe(update_away, names='value')\n",
    "\n",
    "home_row = widgets.HBox([ widgets.Label(\"Home:\", layout=widgets.Layout(width=\"45px\")), home_dropdown, home_img])\n",
    "away_row = widgets.HBox([ widgets.Label(\"Away:\", layout=widgets.Layout(width=\"45px\")), away_dropdown, away_img])\n",
    "spacer = widgets.Box(layout=widgets.Layout(width='40px'))\n",
    "\n",
    "ui = widgets.HBox([home_row, spacer, away_row])\n",
    "\n",
    "display(ui)\n",
    "\n",
    "update_home_image(None)\n",
    "update_away_image(None)\n",
    "update_home_options(None)\n",
    "update_away_options(None)"
   ]
  },
  {
   "cell_type": "code",
   "execution_count": null,
   "id": "750d75bb-2ddc-4b84-9821-7f254fca0d6c",
   "metadata": {},
   "outputs": [],
   "source": []
  }
 ],
 "metadata": {
  "kernelspec": {
   "display_name": "Python 3 (ipykernel)",
   "language": "python",
   "name": "python3"
  },
  "language_info": {
   "codemirror_mode": {
    "name": "ipython",
    "version": 3
   },
   "file_extension": ".py",
   "mimetype": "text/x-python",
   "name": "python",
   "nbconvert_exporter": "python",
   "pygments_lexer": "ipython3",
   "version": "3.12.3"
  }
 },
 "nbformat": 4,
 "nbformat_minor": 5
}
