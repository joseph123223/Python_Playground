{
 "cells": [
  {
   "cell_type": "code",
   "execution_count": 9,
   "id": "f708a024-3833-4f9c-b781-fce3647759e0",
   "metadata": {},
   "outputs": [
    {
     "data": {
      "application/vnd.jupyter.widget-view+json": {
       "model_id": "d0f89312842e4333b2da78592fd176cc",
       "version_major": 2,
       "version_minor": 0
      },
      "text/plain": [
       "FloatText(value=250.0, description='Base Price(w):')"
      ]
     },
     "metadata": {},
     "output_type": "display_data"
    },
    {
     "data": {
      "application/vnd.jupyter.widget-view+json": {
       "model_id": "e48c964c9c964cc881d64e1ab05d82bf",
       "version_major": 2,
       "version_minor": 0
      },
      "text/plain": [
       "FloatText(value=10.0, description='Scroll Price(w):')"
      ]
     },
     "metadata": {},
     "output_type": "display_data"
    },
    {
     "data": {
      "application/vnd.jupyter.widget-view+json": {
       "model_id": "11905163ad8a4dd99f2915a1b4c93677",
       "version_major": 2,
       "version_minor": 0
      },
      "text/plain": [
       "IntSlider(value=7, description='Scrolls Used:', max=10, min=1)"
      ]
     },
     "metadata": {},
     "output_type": "display_data"
    },
    {
     "data": {
      "application/vnd.jupyter.widget-view+json": {
       "model_id": "f44db008e2cf4e4da07037e045fc15f6",
       "version_major": 2,
       "version_minor": 0
      },
      "text/plain": [
       "FloatSlider(value=0.6, description='Success Rate:', max=1.0, step=0.01)"
      ]
     },
     "metadata": {},
     "output_type": "display_data"
    },
    {
     "data": {
      "application/vnd.jupyter.widget-view+json": {
       "model_id": "3f798a467fdb4f91b96fb073bacdee9f",
       "version_major": 2,
       "version_minor": 0
      },
      "text/plain": [
       "Button(description='Preview Inputs', style=ButtonStyle())"
      ]
     },
     "metadata": {},
     "output_type": "display_data"
    }
   ],
   "source": [
    "import ipywidgets as widgets\n",
    "from IPython.display import display\n",
    "\n",
    "# Input fields\n",
    "base_price = widgets.FloatText(\n",
    "    description='Base Price(w):', value=250.0\n",
    ")\n",
    "scroll_price = widgets.FloatText(\n",
    "    description='Scroll Price(w):', value=10.0\n",
    ")\n",
    "num_scrolls = widgets.IntSlider(\n",
    "    description='Scrolls Used:', min=1, max=10, value=7\n",
    ")\n",
    "success_rate = widgets.FloatSlider(\n",
    "    description='Success Rate:', min=0.0, max=1.0, step=0.01, value=0.6\n",
    ")\n",
    "\n",
    "# Display inputs\n",
    "display(base_price, scroll_price, num_scrolls, success_rate)\n",
    "\n",
    "def preview_inputs():\n",
    "    print(f\"Base Price: {base_price.value} 萬\")\n",
    "    print(f\"Scroll Price: {scroll_price.value} 萬\")\n",
    "    print(f\"Scrolls Used: {num_scrolls.value}\")\n",
    "    print(f\"Success Rate: {success_rate.value * 100}%\")\n",
    "\n",
    "preview_button = widgets.Button(description=\"Preview Inputs\")\n",
    "preview_button.on_click(lambda b: preview_inputs())\n",
    "display(preview_button)\n"
   ]
  },
  {
   "cell_type": "code",
   "execution_count": null,
   "id": "3f9e3355-fcfb-4d15-9695-28d8413db623",
   "metadata": {},
   "outputs": [],
   "source": []
  }
 ],
 "metadata": {
  "kernelspec": {
   "display_name": "Python 3 (ipykernel)",
   "language": "python",
   "name": "python3"
  },
  "language_info": {
   "codemirror_mode": {
    "name": "ipython",
    "version": 3
   },
   "file_extension": ".py",
   "mimetype": "text/x-python",
   "name": "python",
   "nbconvert_exporter": "python",
   "pygments_lexer": "ipython3",
   "version": "3.12.3"
  }
 },
 "nbformat": 4,
 "nbformat_minor": 5
}
