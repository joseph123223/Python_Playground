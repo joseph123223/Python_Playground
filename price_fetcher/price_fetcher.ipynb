{
 "cells": [
  {
   "cell_type": "code",
   "execution_count": 3,
   "id": "d60108d7-3980-4132-ae41-76e2c8cf755d",
   "metadata": {},
   "outputs": [],
   "source": [
    "import time\n",
    "import datetime\n",
    "import requests\n",
    "from IPython.display import clear_output"
   ]
  },
  {
   "cell_type": "markdown",
   "id": "b14cbae0-e0cd-4497-a708-1a5d8a23c637",
   "metadata": {},
   "source": [
    "## [START HERE] Enter your input here "
   ]
  },
  {
   "cell_type": "code",
   "execution_count": 4,
   "id": "efbc9b3f-54d4-4778-bf51-67b8fd9746f0",
   "metadata": {},
   "outputs": [],
   "source": [
    "binance = {\n",
    "    'BTCUSDT': 0.0,\n",
    "    'ETHUSDT': 0.0,\n",
    "    'ADAUSDT': 0.0,\n",
    "    'XRPUSDT': 131.791,\n",
    "    'USDT': 904.7\n",
    "}\n",
    "\n",
    "cold_wallet = {\n",
    "    'BTCUSDT': 0.0756004,\n",
    "    'ETHUSDT': 4.8333,\n",
    "    'ADAUSDT': 6482.38\n",
    "}\n",
    "\n",
    "avg_cost = {\n",
    "    'BTCUSDT': 91219.32,\n",
    "    'ETHUSDT': 2873.30,\n",
    "    'ADAUSDT': 0.8472,\n",
    "    'XRPUSDT': 2.54\n",
    "}"
   ]
  },
  {
   "cell_type": "markdown",
   "id": "79c5a5dc-8f14-4c2d-a333-455a1dc86475",
   "metadata": {},
   "source": [
    "## Specific Search"
   ]
  },
  {
   "cell_type": "code",
   "execution_count": 5,
   "id": "7575c3e2-9e00-482d-8dc2-85b957cfd870",
   "metadata": {},
   "outputs": [
    {
     "name": "stdout",
     "output_type": "stream",
     "text": [
      "The current price of ETHBTC is: 0.02328000\n"
     ]
    }
   ],
   "source": [
    "item_to_search = 'ETHBTC'\n",
    "url_root = \"https://api.binance.com/api/v3/ticker/price?symbol=\"\n",
    "\n",
    "response = requests.get(url_root+item_to_search)\n",
    "if response.status_code == 200:\n",
    "    price = response.json()\n",
    "    print(f\"The current price of {price['symbol']} is: {price['price']}\")\n",
    "else:\n",
    "    print(f\"Error：{response.status_code} - {response.text}\")"
   ]
  },
  {
   "cell_type": "markdown",
   "id": "5128b1cc-ed12-4d00-9fa3-cd000c1d4950",
   "metadata": {},
   "source": [
    "## Asset & Distribution Calculation"
   ]
  },
  {
   "cell_type": "code",
   "execution_count": 6,
   "id": "4891ab45-54ed-4a5b-8d87-f4e5482b5dc0",
   "metadata": {},
   "outputs": [
    {
     "name": "stdout",
     "output_type": "stream",
     "text": [
      "Your current owned assets:\n",
      "BTC: 0.0756 - with avg cost [91219.32]\n",
      "ETH: 4.8333 - with avg cost [2873.3]\n",
      "ADA: 6482.38 - with avg cost [0.8472]\n",
      "XRP: 131.791 - with avg cost [2.54]\n",
      "USDT: 904.7 - with avg cost [Not Avaliable]\n",
      "\n",
      "Your current asset's distribution is:\n",
      "BTC: 25.06%\n",
      "ETH: 50.47%\n",
      "ADA: 19.96%\n",
      "XRP: 1.22%\n",
      "USDT: 3.29%\n",
      "\n",
      "Total cost so far: 27515.02296\n"
     ]
    }
   ],
   "source": [
    "total_owned = {}\n",
    "for key, value in binance.items():\n",
    "    total_owned[key] = value if key not in cold_wallet.keys() else round(value + cold_wallet[key], 5)\n",
    "\n",
    "portion = { key: round((total_owned[key] * avg_cost[key]), 5) if key in avg_cost else total_owned[key] for key in total_owned.keys() }\n",
    "total_cost = sum(portion.values())\n",
    "percentage = { key: round((value / total_cost * 100), 2) for key, value in portion.items() }\n",
    "print(\"Your current owned assets:\")\n",
    "for key, value in total_owned.items():\n",
    "    print(f'{key if key == 'USDT' else key[:-4]}: {value} - with avg cost {[avg_cost[key]] if key in avg_cost.keys() else '[Not Avaliable]'}')\n",
    "print(\"\\nYour current asset's distribution is:\")\n",
    "for key, value in percentage.items():\n",
    "    if key != 'USDT' and key != 'USDC':\n",
    "        print(f\"{key[:-4]}: {value}%\")\n",
    "    else:\n",
    "        print(f\"{key}: {value}%\")\n",
    "print(f\"\\nTotal cost so far: {total_cost}\")"
   ]
  },
  {
   "cell_type": "markdown",
   "id": "add31e15-d0cb-4960-a6f4-f092a600b644",
   "metadata": {},
   "source": [
    "### Real-time Unrealized Profits."
   ]
  },
  {
   "cell_type": "code",
   "execution_count": 10,
   "id": "438647c0-6d35-4a10-b2ef-661ec5ce39c7",
   "metadata": {},
   "outputs": [
    {
     "data": {
      "text/plain": [
       "{'BTCUSDT': 85733.12, 'ETHUSDT': 2022.78, 'ADAUSDT': 0.729, 'XRPUSDT': 2.4873}"
      ]
     },
     "execution_count": 10,
     "metadata": {},
     "output_type": "execute_result"
    }
   ],
   "source": [
    "filter_symbols = [key for key in avg_cost.keys()]\n",
    "url_custom = [ url_root + coin for coin in filter_symbols]\n",
    "start_prices = {}\n",
    "\n",
    "for url in url_custom:\n",
    "    response = requests.get(url)\n",
    "    if response.status_code == 200:\n",
    "        price = response.json()\n",
    "        start_prices[price['symbol']] = float(price['price']) \n",
    "    else:\n",
    "        print(f\"Error：{response.status_code} - {response.text}\")\n",
    "\n",
    "start_prices"
   ]
  },
  {
   "cell_type": "code",
   "execution_count": 18,
   "id": "be50278e-1e7c-4bf6-85e3-e5561b11dc40",
   "metadata": {},
   "outputs": [
    {
     "name": "stdout",
     "output_type": "stream",
     "text": [
      "[2025/03/26 09:21:22]\n",
      "The current price of your owned coins are:\n",
      "\n",
      "  Type     Price      I/D       Per  \n",
      "BTCUSDT : 87851.37  \u001b[92m +2118.25 \u001b[0m (\u001b[92m+2.4707 %\u001b[0m)\n",
      "ETHUSDT : 2074.76   \u001b[92m +51.98   \u001b[0m (\u001b[92m+2.5697 %\u001b[0m)\n",
      "ADAUSDT : 0.7546    \u001b[92m +0.0256  \u001b[0m (\u001b[92m+3.5117 %\u001b[0m)\n",
      "XRPUSDT : 2.4765    \u001b[91m -0.0108  \u001b[0m (\u001b[91m-0.4342 %\u001b[0m)\n",
      "\n",
      "The unrealized profits of your owned coins are:\n",
      "BTCUSDT : \u001b[91m-254.61702   \u001b[0m\n",
      "ETHUSDT : \u001b[91m-3859.58338  \u001b[0m\n",
      "ADAUSDT : \u001b[91m-600.26839   \u001b[0m\n",
      "XRPUSDT : \u001b[91m-8.36873     \u001b[0m\n",
      "The total unrealized profits is: \u001b[91m-4722.83752\n"
     ]
    },
    {
     "ename": "KeyboardInterrupt",
     "evalue": "",
     "output_type": "error",
     "traceback": [
      "\u001b[0;31m---------------------------------------------------------------------------\u001b[0m",
      "\u001b[0;31mKeyboardInterrupt\u001b[0m                         Traceback (most recent call last)",
      "Cell \u001b[0;32mIn[18], line 45\u001b[0m\n\u001b[1;32m     43\u001b[0m \u001b[38;5;28mprint\u001b[39m(\u001b[38;5;124mf\u001b[39m\u001b[38;5;124m\"\u001b[39m\u001b[38;5;124mThe total unrealized profits is: \u001b[39m\u001b[38;5;132;01m{\u001b[39;00mcolor\u001b[38;5;132;01m}\u001b[39;00m\u001b[38;5;132;01m{\u001b[39;00m\u001b[38;5;28mround\u001b[39m(total_unrealized_profit,\u001b[38;5;250m \u001b[39m\u001b[38;5;241m5\u001b[39m)\u001b[38;5;132;01m}\u001b[39;00m\u001b[38;5;124m\"\u001b[39m)\n\u001b[1;32m     44\u001b[0m update \u001b[38;5;241m=\u001b[39m \u001b[38;5;28;01mFalse\u001b[39;00m\n\u001b[0;32m---> 45\u001b[0m \u001b[43mtime\u001b[49m\u001b[38;5;241;43m.\u001b[39;49m\u001b[43msleep\u001b[49m\u001b[43m(\u001b[49m\u001b[43mfetch_frequence\u001b[49m\u001b[43m)\u001b[49m\n",
      "\u001b[0;31mKeyboardInterrupt\u001b[0m: "
     ]
    }
   ],
   "source": [
    "fetch_frequence = 10\n",
    "current_prices = {}\n",
    "default_color = '\\033[0m'\n",
    "\n",
    "while True:\n",
    "    clear_output(wait=True)\n",
    "    current_time = datetime.datetime.now()\n",
    "    for url in url_custom:\n",
    "        response = requests.get(url)\n",
    "        if response.status_code == 200:\n",
    "            price = response.json()\n",
    "            current_prices[price['symbol']] = float(price['price'])\n",
    "        else:\n",
    "            print(f\"Error：{response.status_code} - {response.text}\")\n",
    "            \n",
    "    print('[' + current_time.strftime('%Y/%m/%d %H:%M:%S')+ ']')\n",
    "    print(\"The current price of your owned coins are:\\n\")\n",
    "    print('{:^8}'.format('Type') + ' ' + '{:^10}'.format('Price') + ' ' + '{:^7}'.format('I/D') + '   ' + '{:^7}'.format('Per'))\n",
    "    for key, value in current_prices.items():\n",
    "        diff = round(value - start_prices[key], 4)\n",
    "        percentage = round(diff / start_prices[key] * 100, 4)\n",
    "        char = '+' if diff > 0 else '-'\n",
    "        color = default_color if diff == 0 else ('\\033[92m' if diff > 0 else '\\033[91m')\n",
    "        diff, percentage = abs(diff), abs(percentage)\n",
    "        print('%-8s' % key + ':', end = ' ')\n",
    "        print('%-10s' % round(value, 5), end='')\n",
    "        print(f\"{color} {char}\", end = '')\n",
    "        print('%-7s' % diff, end = ' ')\n",
    "        print(f\"{default_color} ({color}{char}\", end = '')\n",
    "        print('%-7s' % percentage + f'%{default_color})')\n",
    "    \n",
    "    unrealized_profit = { key: round((float(current_prices[key]) - avg_cost[key])* total_owned[key], 5) for key, value in avg_cost.items() }\n",
    "    print(\"\\nThe unrealized profits of your owned coins are:\")\n",
    "    total_unrealized_profit = 0\n",
    "    for key, value in unrealized_profit.items():\n",
    "        total_unrealized_profit += value\n",
    "        c = '+' if value > 0 else '-'\n",
    "        color = default_color if value == 0 else ('\\033[92m' if value > 0 else '\\033[91m')\n",
    "        print(f'%-8s' % key + ': ' + f'{color}{c}' + f\"{'%-12s' % abs(round(value, 5))}\", end = '')\n",
    "        print(default_color)\n",
    "\n",
    "    color = default_color if value == 0 else ('\\033[92m' if value > 0 else '\\033[91m')\n",
    "    print(f\"The total unrealized profits is: {color}{round(total_unrealized_profit, 5)}\")\n",
    "    update = False\n",
    "    time.sleep(fetch_frequence)"
   ]
  },
  {
   "cell_type": "code",
   "execution_count": null,
   "id": "a3b3b5f3-6e58-405c-a291-bc88bc00cab3",
   "metadata": {},
   "outputs": [],
   "source": []
  },
  {
   "cell_type": "code",
   "execution_count": null,
   "id": "4a9ee602-e3d2-453b-a924-bc6bdad01905",
   "metadata": {},
   "outputs": [],
   "source": []
  }
 ],
 "metadata": {
  "kernelspec": {
   "display_name": "Python 3 (ipykernel)",
   "language": "python",
   "name": "python3"
  },
  "language_info": {
   "codemirror_mode": {
    "name": "ipython",
    "version": 3
   },
   "file_extension": ".py",
   "mimetype": "text/x-python",
   "name": "python",
   "nbconvert_exporter": "python",
   "pygments_lexer": "ipython3",
   "version": "3.12.3"
  }
 },
 "nbformat": 4,
 "nbformat_minor": 5
}
