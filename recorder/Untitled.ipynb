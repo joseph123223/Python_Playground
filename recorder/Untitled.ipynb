{
 "cells": [
  {
   "cell_type": "code",
   "execution_count": null,
   "id": "a45bc251-fb12-4052-bc75-f56e194a35ca",
   "metadata": {},
   "outputs": [],
   "source": []
  },
  {
   "cell_type": "code",
   "execution_count": 1,
   "id": "0fe54b64-a712-43ab-b7d1-0189aa2da931",
   "metadata": {},
   "outputs": [],
   "source": [
    "budgets = 2000"
   ]
  },
  {
   "cell_type": "code",
   "execution_count": null,
   "id": "a41a8ee6-ea4c-444c-914c-f66c015dc966",
   "metadata": {},
   "outputs": [],
   "source": []
  }
 ],
 "metadata": {
  "kernelspec": {
   "display_name": "Python 3 (ipykernel)",
   "language": "python",
   "name": "python3"
  },
  "language_info": {
   "codemirror_mode": {
    "name": "ipython",
    "version": 3
   },
   "file_extension": ".py",
   "mimetype": "text/x-python",
   "name": "python",
   "nbconvert_exporter": "python",
   "pygments_lexer": "ipython3",
   "version": "3.12.3"
  }
 },
 "nbformat": 4,
 "nbformat_minor": 5
}
