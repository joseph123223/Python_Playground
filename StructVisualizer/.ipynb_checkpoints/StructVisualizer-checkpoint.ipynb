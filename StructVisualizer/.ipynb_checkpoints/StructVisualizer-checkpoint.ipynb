{
 "cells": [
  {
   "cell_type": "code",
   "execution_count": 1,
   "id": "6a568d50-e533-45d0-a29b-20e2bf2060b2",
   "metadata": {},
   "outputs": [],
   "source": [
    "import matplotlib.pyplot as plt\n",
    "import numpy as np"
   ]
  },
  {
   "cell_type": "code",
   "execution_count": 7,
   "id": "b58ebb50-e9f1-4237-92e0-707a96e28e82",
   "metadata": {},
   "outputs": [],
   "source": [
    "class StructVisualizer:\n",
    "    def __init__(self, struct_name, fields, packed=False):\n",
    "        self.struct_name = struct_name\n",
    "        self.fields = fields\n",
    "        self.packed = packed\n",
    "        self.layout = self.calculate_memory_layout()\n",
    "\n",
    "    def calculate_memory_layout(self):\n",
    "        memory = []\n",
    "        bit_position = 0\n",
    "        word_size = 32\n",
    "        \n",
    "        for name, bit_size, dtype in self.fields:\n",
    "            if not self.packed:\n",
    "                if (bit_position % word_size + bit_size) > word_size:\n",
    "                    bit_position = (bit_position // word_size + 1) * word_size\n",
    "            \n",
    "            memory.append((bit_position, bit_size, name, dtype))\n",
    "            bit_position += bit_size\n",
    "\n",
    "        struct_size = (bit_position + word_size - 1) // word_size * word_size\n",
    "        return memory, struct_size\n",
    "\n",
    "    def visualize(self):\n",
    "        memory, struct_size = self.layout\n",
    "        fig, ax = plt.subplots(figsize=(10, 2))\n",
    "\n",
    "        for bit_pos, bit_size, name, dtype in memory:\n",
    "            start_byte = bit_pos // 8\n",
    "            start_bit = bit_pos % 8\n",
    "            end_bit = (bit_pos + bit_size) % 8\n",
    "            color = \"lightblue\" if \"unsigned\" in dtype else \"salmon\"\n",
    "            \n",
    "            ax.broken_barh([(bit_pos, bit_size)], (0, 1), facecolors=color, edgecolor=\"black\")\n",
    "            ax.text(bit_pos + bit_size / 2, 0.5, name, ha=\"center\", va=\"center\", fontsize=10)\n",
    "\n",
    "        ax.set_xlim(0, struct_size)\n",
    "        ax.set_ylim(0, 1)\n",
    "        ax.set_xticks(np.arange(0, struct_size, 8))\n",
    "        ax.set_xticklabels([f\"B{i}\" for i in range(struct_size // 8)])\n",
    "        ax.set_yticks([])\n",
    "        ax.set_title(f\"Memory Layout of {self.struct_name}\")\n",
    "        ax.grid(axis=\"x\")\n",
    "\n",
    "        plt.show()"
   ]
  },
  {
   "cell_type": "code",
   "execution_count": 8,
   "id": "fca41654-b82d-490c-ad45-f5d98181886d",
   "metadata": {},
   "outputs": [
    {
     "data": {
      "image/png": "[encoded data removed]",
      "text/plain": [
       "<Figure size 1000x200 with 1 Axes>"
      ]
     },
     "metadata": {},
     "output_type": "display_data"
    }
   ],
   "source": [
    "fields = [\n",
    "    (\"scan_id\", 9, \"unsigned\"),\n",
    "    (\"hangle_1\", 9, \"signed\"),\n",
    "    (\"hangle_2\", 10, \"signed\"),\n",
    "    (\"hangle_3\", 11, \"signed\"),\n",
    "    (\"vangle_1\", 8, \"signed\"),\n",
    "    (\"vangle_2\", 9, \"signed\"),\n",
    "    (\"vangle_3\", 9, \"signed\"),\n",
    "    (\"in_roi\", 2, \"unsigned\"),\n",
    "    (\"facet\", 3, \"unsigned\"),\n",
    "    (\"reserved\", 2, \"unsigned\")\n",
    "]\n",
    "\n",
    "vis = StructVisualizer(\"test\", fields, packed=False)\n",
    "vis.visualize()"
   ]
  },
  {
   "cell_type": "code",
   "execution_count": null,
   "id": "f85afe41-5a6e-47cc-a616-d2d782f60d92",
   "metadata": {},
   "outputs": [],
   "source": []
  }
 ],
 "metadata": {
  "kernelspec": {
   "display_name": "Python 3 (ipykernel)",
   "language": "python",
   "name": "python3"
  },
  "language_info": {
   "codemirror_mode": {
    "name": "ipython",
    "version": 3
   },
   "file_extension": ".py",
   "mimetype": "text/x-python",
   "name": "python",
   "nbconvert_exporter": "python",
   "pygments_lexer": "ipython3",
   "version": "3.12.3"
  }
 },
 "nbformat": 4,
 "nbformat_minor": 5
}
